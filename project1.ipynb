{
 "cells": [
  {
   "cell_type": "code",
   "execution_count": 1,
   "metadata": {},
   "outputs": [],
   "source": [
    "import numpy as np\n",
    "import pandas as pd\n",
    "import seaborn as sns\n",
    "import matplotlib.pyplot as plt\n",
    "from sklearn.model_selection import train_test_split\n",
    "from sklearn.metrics import mean_squared_error\n",
    "from math import sqrt"
   ]
  },
  {
   "cell_type": "code",
   "execution_count": 378,
   "metadata": {},
   "outputs": [],
   "source": [
    "# train and test data\n",
    "train_data=pd.read_csv(r'C:\\Users\\User\\Desktop\\ms\\project amz\\train.csv')\n",
    "test_data=pd.read_csv(r'C:\\Users\\User\\Desktop\\ms\\project amz\\test.csv')"
   ]
  },
  {
   "cell_type": "code",
   "execution_count": 167,
   "metadata": {},
   "outputs": [
    {
     "data": {
      "text/plain": [
       "<matplotlib.axes._subplots.AxesSubplot at 0xaf6ae98ac8>"
      ]
     },
     "execution_count": 167,
     "metadata": {},
     "output_type": "execute_result"
    },
    {
     "data": {
      "image/png": "[encoded data removed]",
      "text/plain": [
       "<Figure size 432x288 with 1 Axes>"
      ]
     },
     "metadata": {
      "needs_background": "light"
     },
     "output_type": "display_data"
    }
   ],
   "source": [
    "# visulization of target distribution\n",
    "sns.distplot(train_data['Purchase'],kde=False)"
   ]
  },
  {
   "cell_type": "code",
   "execution_count": 261,
   "metadata": {},
   "outputs": [],
   "source": [
    "# user id prepocess\n",
    "train_data['User_ID'] = train_data['User_ID'] - 1000000\n",
    "test_data['User_ID'] = test_data['User_ID'] - 1000000"
   ]
  },
  {
   "cell_type": "code",
   "execution_count": 262,
   "metadata": {},
   "outputs": [],
   "source": [
    "# split str and number from product_ID\n",
    "\n",
    "result = train_data['Product_ID'].str.extract('([a-zA-Z]+)([^a-zA-Z]+)', expand=True)\n",
    "result.columns = ['pr_Text', 'pr_Number']\n",
    "\n",
    "train_data['Prid_no']=pd.to_numeric(result['pr_Number'])\n",
    "\n",
    "\n",
    "# split str and number from product_ID in test data\n",
    "\n",
    "result1 = test_data['Product_ID'].str.extract('([a-zA-Z]+)([^a-zA-Z]+)', expand=True)\n",
    "result1.columns = ['pr_Text1', 'pr_Number1']\n",
    "\n",
    "test_data['Prid_no']=pd.to_numeric(result1['pr_Number1'])"
   ]
  },
  {
   "cell_type": "code",
   "execution_count": 264,
   "metadata": {},
   "outputs": [
    {
     "data": {
      "text/plain": [
       "Gender\n",
       "F    8734.565765\n",
       "M    9437.526040\n",
       "Name: Purchase, dtype: float64"
      ]
     },
     "execution_count": 264,
     "metadata": {},
     "output_type": "execute_result"
    }
   ],
   "source": [
    "# cheak mean() Purchase accoding to gender\n",
    "\n",
    "train_data.groupby('Gender')['Purchase'].mean()"
   ]
  },
  {
   "cell_type": "code",
   "execution_count": 265,
   "metadata": {},
   "outputs": [],
   "source": [
    "# change str in numerical value\n",
    "\n",
    "train_data['Gender']=train_data['Gender'].replace(['F','M'],[1,2])\n",
    "\n",
    "test_data['Gender']=test_data['Gender'].replace(['F','M'],[1,2])"
   ]
  },
  {
   "cell_type": "code",
   "execution_count": 266,
   "metadata": {},
   "outputs": [
    {
     "data": {
      "text/plain": [
       "Age\n",
       "0-17     8933.464640\n",
       "18-25    9169.663606\n",
       "26-35    9252.690633\n",
       "36-45    9331.350695\n",
       "46-50    9208.625697\n",
       "51-55    9534.808031\n",
       "55+      9336.280459\n",
       "Name: Purchase, dtype: float64"
      ]
     },
     "execution_count": 266,
     "metadata": {},
     "output_type": "execute_result"
    }
   ],
   "source": [
    "train_data.groupby('Age')['Purchase'].mean()"
   ]
  },
  {
   "cell_type": "code",
   "execution_count": 267,
   "metadata": {},
   "outputs": [],
   "source": [
    "# covert range into number accouding to importance\n",
    "train_data['Age']=train_data['Age'].replace(['0-17','18-25','46-50','26-35','36-45','55+','51-55'],[1,2,3,4,5,6,7])\n",
    "\n",
    "test_data['Age']=test_data['Age'].replace(['0-17','18-25','46-50','26-35','36-45','55+','51-55'],[1,2,3,4,5,6,7])"
   ]
  },
  {
   "cell_type": "code",
   "execution_count": 268,
   "metadata": {},
   "outputs": [],
   "source": [
    "# covert range\n",
    "#ax=sns.regplot(x=\"Age\", y=\"Purchase\", data=train_data,x_estimator=np.mean)"
   ]
  },
  {
   "cell_type": "code",
   "execution_count": 269,
   "metadata": {},
   "outputs": [],
   "source": [
    "# relation b/w Occupation and purchase\n",
    "\n",
    "Occupation_list=pd.DataFrame((list(train_data.groupby('Occupation')['Purchase'].mean())))"
   ]
  },
  {
   "cell_type": "code",
   "execution_count": 270,
   "metadata": {},
   "outputs": [],
   "source": [
    "#ax=sns.regplot(x=\"Occupation\", y=\"Purchase\", data=train_data,x_estimator=np.mean)"
   ]
  },
  {
   "cell_type": "code",
   "execution_count": 271,
   "metadata": {},
   "outputs": [],
   "source": [
    "Occupation_list=pd.DataFrame((train_data.groupby('Occupation')['Purchase'].mean()))\n",
    "\n",
    "# set Occupation_list in ascending order\n",
    "Occupation_ascending_list=list(Occupation_list.sort_values('Purchase',ascending=True).index)\n",
    "\n",
    "#list of number in range 1 to 21\n",
    "\n",
    "Occupation_set_list=list(range(1,22))"
   ]
  },
  {
   "cell_type": "code",
   "execution_count": 272,
   "metadata": {},
   "outputs": [],
   "source": [
    "train_data['Occupation']=train_data['Occupation'].replace(Occupation_ascending_list,Occupation_set_list)\n",
    "\n",
    "test_data['Occupation']=test_data['Occupation'].replace(Occupation_ascending_list,Occupation_set_list)"
   ]
  },
  {
   "cell_type": "code",
   "execution_count": 273,
   "metadata": {},
   "outputs": [],
   "source": [
    "#ax=sns.regplot(x=\"Occupation\", y=\"Purchase\", data=train_data,x_estimator=np.mean)"
   ]
  },
  {
   "cell_type": "code",
   "execution_count": 274,
   "metadata": {},
   "outputs": [
    {
     "data": {
      "text/plain": [
       "City_Category\n",
       "A    8911.939216\n",
       "B    9151.300563\n",
       "C    9719.920993\n",
       "Name: Purchase, dtype: float64"
      ]
     },
     "execution_count": 274,
     "metadata": {},
     "output_type": "execute_result"
    }
   ],
   "source": [
    "# realtion bw city_Category vs purchase\n",
    "train_data.groupby('City_Category')['Purchase'].mean()"
   ]
  },
  {
   "cell_type": "code",
   "execution_count": 275,
   "metadata": {},
   "outputs": [],
   "source": [
    "train_data['City_Category']=train_data['City_Category'].replace(['A','B','C'],[1,2,3])\n",
    "\n",
    "test_data['City_Category']=test_data['City_Category'].replace(['A','B','C'],[1,2,3])"
   ]
  },
  {
   "cell_type": "code",
   "execution_count": 276,
   "metadata": {},
   "outputs": [
    {
     "data": {
      "text/plain": [
       "Stay_In_Current_City_Years\n",
       "0     9180.075123\n",
       "1     9250.145923\n",
       "2     9320.429810\n",
       "3     9286.904119\n",
       "4+    9275.598872\n",
       "Name: Purchase, dtype: float64"
      ]
     },
     "execution_count": 276,
     "metadata": {},
     "output_type": "execute_result"
    }
   ],
   "source": [
    "#relation bw Stay_In_Current_City_Years and purchase\n",
    "\n",
    "train_data.groupby(\"Stay_In_Current_City_Years\")['Purchase'].mean()"
   ]
  },
  {
   "cell_type": "code",
   "execution_count": 277,
   "metadata": {},
   "outputs": [],
   "source": [
    "train_data[\"Stay_In_Current_City_Years\"]=train_data[\"Stay_In_Current_City_Years\"].replace(['0','1','4+','3','2'],[1,2,3,4,5])\n",
    "\n",
    "test_data[\"Stay_In_Current_City_Years\"]=test_data[\"Stay_In_Current_City_Years\"].replace(['0','1','4+','3','2'],[1,2,3,4,5])"
   ]
  },
  {
   "cell_type": "code",
   "execution_count": 278,
   "metadata": {},
   "outputs": [
    {
     "data": {
      "text/plain": [
       "Marital_Status\n",
       "0    9265.907619\n",
       "1    9261.174574\n",
       "Name: Purchase, dtype: float64"
      ]
     },
     "execution_count": 278,
     "metadata": {},
     "output_type": "execute_result"
    }
   ],
   "source": [
    "train_data.groupby(\"Marital_Status\")['Purchase'].mean()"
   ]
  },
  {
   "cell_type": "code",
   "execution_count": 279,
   "metadata": {},
   "outputs": [],
   "source": [
    "#plt.subplot(121)\n",
    "#sns.boxplot(x=\"Marital_Status\",y='Purchase',data=train_data)\n",
    "\n",
    "#plt.subplot(122)\n",
    "#sns.violinplot(x=\"Marital_Status\",y='Purchase',data=train_data)"
   ]
  },
  {
   "cell_type": "code",
   "execution_count": 280,
   "metadata": {},
   "outputs": [],
   "source": [
    "# realtion between Product_Category_1 and purchase"
   ]
  },
  {
   "cell_type": "code",
   "execution_count": 281,
   "metadata": {},
   "outputs": [
    {
     "data": {
      "text/plain": [
       "Product_Category_1\n",
       "1     13606.218596\n",
       "2     11251.935384\n",
       "3     10096.705734\n",
       "4      2329.659491\n",
       "5      6240.088178\n",
       "6     15838.478550\n",
       "7     16365.689600\n",
       "8      7498.958078\n",
       "9     15537.375610\n",
       "10    19675.570927\n",
       "11     4685.268456\n",
       "12     1350.859894\n",
       "13      722.400613\n",
       "14    13141.625739\n",
       "15    14780.451828\n",
       "16    14766.037037\n",
       "17    10170.759516\n",
       "18     2972.864320\n",
       "19       37.041797\n",
       "20      370.481176\n",
       "Name: Purchase, dtype: float64"
      ]
     },
     "execution_count": 281,
     "metadata": {},
     "output_type": "execute_result"
    }
   ],
   "source": [
    "train_data.groupby(\"Product_Category_1\")['Purchase'].mean()"
   ]
  },
  {
   "cell_type": "code",
   "execution_count": 282,
   "metadata": {},
   "outputs": [],
   "source": [
    "pcat1_list=pd.DataFrame(train_data.groupby('Product_Category_1')['Purchase'].mean())\n",
    "\n",
    "# set pcat_list in ascending order\n",
    "pcat1_ascending_list=list(pcat1_list.sort_values('Purchase',ascending=True).index)\n",
    "\n",
    "#list of number in range 1 to 21\n",
    "\n",
    "pcat1_set_list=list(range(1,21))"
   ]
  },
  {
   "cell_type": "code",
   "execution_count": 283,
   "metadata": {},
   "outputs": [],
   "source": [
    "train_data['Product_Category_1']=train_data['Product_Category_1'].replace(pcat1_ascending_list,pcat1_set_list)\n",
    "\n",
    "test_data['Product_Category_1']=test_data['Product_Category_1'].replace(pcat1_ascending_list,pcat1_set_list)"
   ]
  },
  {
   "cell_type": "code",
   "execution_count": 284,
   "metadata": {},
   "outputs": [],
   "source": [
    "#sns.regplot(x='Product_Category_1',y='Purchase',data=train_data,x_estimator=np.mean)"
   ]
  },
  {
   "cell_type": "code",
   "execution_count": 285,
   "metadata": {},
   "outputs": [],
   "source": [
    "# realtion between Product_Category_2 and purchase"
   ]
  },
  {
   "cell_type": "code",
   "execution_count": 286,
   "metadata": {},
   "outputs": [],
   "source": [
    "# fill missing value with zero\n",
    "train_data['Product_Category_2']=train_data['Product_Category_2'].fillna(0)\n",
    "\n",
    "test_data['Product_Category_2']=test_data['Product_Category_2'].fillna(0)"
   ]
  },
  {
   "cell_type": "code",
   "execution_count": 287,
   "metadata": {},
   "outputs": [
    {
     "data": {
      "text/plain": [
       "Product_Category_2\n",
       "0.0      7518.695389\n",
       "2.0     13619.356401\n",
       "3.0     11235.359570\n",
       "4.0     10215.192001\n",
       "5.0      9027.821574\n",
       "6.0     11503.551379\n",
       "7.0      6884.683706\n",
       "8.0     10273.259518\n",
       "9.0      7277.006851\n",
       "10.0    15648.729543\n",
       "11.0     8940.580515\n",
       "12.0     6975.472504\n",
       "13.0     9683.352388\n",
       "14.0     7105.264916\n",
       "15.0    10357.077691\n",
       "16.0    10295.681933\n",
       "17.0     9421.576577\n",
       "18.0     9352.440433\n",
       "Name: Purchase, dtype: float64"
      ]
     },
     "execution_count": 287,
     "metadata": {},
     "output_type": "execute_result"
    }
   ],
   "source": [
    "train_data.groupby(\"Product_Category_2\")['Purchase'].mean()"
   ]
  },
  {
   "cell_type": "code",
   "execution_count": 288,
   "metadata": {},
   "outputs": [],
   "source": [
    "pcat2_list=pd.DataFrame(train_data.groupby('Product_Category_2')['Purchase'].mean())\n",
    "\n",
    "# set pcat_list in ascending order\n",
    "pcat2_ascending_list=list(pcat2_list.sort_values('Purchase',ascending=True).index)\n",
    "\n",
    "#list of number in range 1 to 18\n",
    "\n",
    "pcat2_set_list=list(range(1,19))"
   ]
  },
  {
   "cell_type": "code",
   "execution_count": 289,
   "metadata": {},
   "outputs": [],
   "source": [
    "train_data['Product_Category_2']=train_data['Product_Category_2'].replace(pcat2_ascending_list,pcat2_set_list)\n",
    "\n",
    "test_data['Product_Category_2']=test_data['Product_Category_2'].replace(pcat2_ascending_list,pcat2_set_list)"
   ]
  },
  {
   "cell_type": "code",
   "execution_count": 290,
   "metadata": {},
   "outputs": [],
   "source": [
    "#sns.regplot(x='Product_Category_2',y='Purchase',data=train_data,x_estimator=np.mean)"
   ]
  },
  {
   "cell_type": "code",
   "execution_count": 291,
   "metadata": {},
   "outputs": [],
   "source": [
    "# realtion between Product_Category_3 and purchase"
   ]
  },
  {
   "cell_type": "code",
   "execution_count": 292,
   "metadata": {},
   "outputs": [],
   "source": [
    "# fill missing value with zero\n",
    "train_data['Product_Category_3']=train_data['Product_Category_3'].fillna(0)\n",
    "\n",
    "test_data['Product_Category_3']=test_data['Product_Category_3'].fillna(0)"
   ]
  },
  {
   "cell_type": "code",
   "execution_count": 293,
   "metadata": {},
   "outputs": [
    {
     "data": {
      "text/plain": [
       "Product_Category_3\n",
       "0.0      8221.836943\n",
       "3.0     13939.696574\n",
       "4.0      9794.386667\n",
       "5.0     12117.786889\n",
       "6.0     13194.311043\n",
       "8.0     13024.918882\n",
       "9.0     10431.697210\n",
       "10.0    13505.813441\n",
       "11.0    12091.437673\n",
       "12.0     8715.512762\n",
       "13.0    13185.118703\n",
       "14.0    10052.594530\n",
       "15.0    12339.369900\n",
       "16.0    11981.890642\n",
       "17.0    11769.943001\n",
       "18.0    10993.980773\n",
       "Name: Purchase, dtype: float64"
      ]
     },
     "execution_count": 293,
     "metadata": {},
     "output_type": "execute_result"
    }
   ],
   "source": [
    "train_data.groupby(\"Product_Category_3\")['Purchase'].mean()"
   ]
  },
  {
   "cell_type": "code",
   "execution_count": 294,
   "metadata": {},
   "outputs": [],
   "source": [
    "pcat3_list=pd.DataFrame(train_data.groupby('Product_Category_3')['Purchase'].mean())\n",
    "\n",
    "# set pcat_list in ascending order\n",
    "pcat3_ascending_list=list(pcat3_list.sort_values('Purchase',ascending=True).index)\n",
    "\n",
    "#list of number in range 1 to 18\n",
    "\n",
    "pcat3_set_list=list(range(1,17))"
   ]
  },
  {
   "cell_type": "code",
   "execution_count": 295,
   "metadata": {},
   "outputs": [],
   "source": [
    "train_data['Product_Category_3']=train_data['Product_Category_3'].replace(pcat3_ascending_list,pcat3_set_list)\n",
    "\n",
    "test_data['Product_Category_3']=test_data['Product_Category_3'].replace(pcat3_ascending_list,pcat3_set_list)"
   ]
  },
  {
   "cell_type": "code",
   "execution_count": 296,
   "metadata": {},
   "outputs": [
    {
     "data": {
      "text/html": [
       "<div>\n",
       "<style scoped>\n",
       "    .dataframe tbody tr th:only-of-type {\n",
       "        vertical-align: middle;\n",
       "    }\n",
       "\n",
       "    .dataframe tbody tr th {\n",
       "        vertical-align: top;\n",
       "    }\n",
       "\n",
       "    .dataframe thead th {\n",
       "        text-align: right;\n",
       "    }\n",
       "</style>\n",
       "<table border=\"1\" class=\"dataframe\">\n",
       "  <thead>\n",
       "    <tr style=\"text-align: right;\">\n",
       "      <th></th>\n",
       "      <th>User_ID</th>\n",
       "      <th>Product_ID</th>\n",
       "      <th>Gender</th>\n",
       "      <th>Age</th>\n",
       "      <th>Occupation</th>\n",
       "      <th>City_Category</th>\n",
       "      <th>Stay_In_Current_City_Years</th>\n",
       "      <th>Marital_Status</th>\n",
       "      <th>Product_Category_1</th>\n",
       "      <th>Product_Category_2</th>\n",
       "      <th>Product_Category_3</th>\n",
       "      <th>Purchase</th>\n",
       "      <th>Prid_no</th>\n",
       "    </tr>\n",
       "  </thead>\n",
       "  <tbody>\n",
       "    <tr>\n",
       "      <th>0</th>\n",
       "      <td>1</td>\n",
       "      <td>P00069042</td>\n",
       "      <td>1</td>\n",
       "      <td>1</td>\n",
       "      <td>6</td>\n",
       "      <td>1</td>\n",
       "      <td>5</td>\n",
       "      <td>0</td>\n",
       "      <td>10</td>\n",
       "      <td>5.0</td>\n",
       "      <td>1.0</td>\n",
       "      <td>8370</td>\n",
       "      <td>69042</td>\n",
       "    </tr>\n",
       "    <tr>\n",
       "      <th>1</th>\n",
       "      <td>1</td>\n",
       "      <td>P00248942</td>\n",
       "      <td>1</td>\n",
       "      <td>1</td>\n",
       "      <td>6</td>\n",
       "      <td>1</td>\n",
       "      <td>5</td>\n",
       "      <td>0</td>\n",
       "      <td>14</td>\n",
       "      <td>16.0</td>\n",
       "      <td>4.0</td>\n",
       "      <td>15200</td>\n",
       "      <td>248942</td>\n",
       "    </tr>\n",
       "    <tr>\n",
       "      <th>2</th>\n",
       "      <td>1</td>\n",
       "      <td>P00087842</td>\n",
       "      <td>1</td>\n",
       "      <td>1</td>\n",
       "      <td>6</td>\n",
       "      <td>1</td>\n",
       "      <td>5</td>\n",
       "      <td>0</td>\n",
       "      <td>4</td>\n",
       "      <td>5.0</td>\n",
       "      <td>1.0</td>\n",
       "      <td>1422</td>\n",
       "      <td>87842</td>\n",
       "    </tr>\n",
       "    <tr>\n",
       "      <th>3</th>\n",
       "      <td>1</td>\n",
       "      <td>P00085442</td>\n",
       "      <td>1</td>\n",
       "      <td>1</td>\n",
       "      <td>6</td>\n",
       "      <td>1</td>\n",
       "      <td>5</td>\n",
       "      <td>0</td>\n",
       "      <td>4</td>\n",
       "      <td>3.0</td>\n",
       "      <td>1.0</td>\n",
       "      <td>1057</td>\n",
       "      <td>85442</td>\n",
       "    </tr>\n",
       "    <tr>\n",
       "      <th>4</th>\n",
       "      <td>2</td>\n",
       "      <td>P00285442</td>\n",
       "      <td>2</td>\n",
       "      <td>6</td>\n",
       "      <td>15</td>\n",
       "      <td>3</td>\n",
       "      <td>3</td>\n",
       "      <td>0</td>\n",
       "      <td>9</td>\n",
       "      <td>5.0</td>\n",
       "      <td>1.0</td>\n",
       "      <td>7969</td>\n",
       "      <td>285442</td>\n",
       "    </tr>\n",
       "  </tbody>\n",
       "</table>\n",
       "</div>"
      ],
      "text/plain": [
       "   User_ID Product_ID  Gender  Age  Occupation  City_Category  \\\n",
       "0        1  P00069042       1    1           6              1   \n",
       "1        1  P00248942       1    1           6              1   \n",
       "2        1  P00087842       1    1           6              1   \n",
       "3        1  P00085442       1    1           6              1   \n",
       "4        2  P00285442       2    6          15              3   \n",
       "\n",
       "   Stay_In_Current_City_Years  Marital_Status  Product_Category_1  \\\n",
       "0                           5               0                  10   \n",
       "1                           5               0                  14   \n",
       "2                           5               0                   4   \n",
       "3                           5               0                   4   \n",
       "4                           3               0                   9   \n",
       "\n",
       "   Product_Category_2  Product_Category_3  Purchase  Prid_no  \n",
       "0                 5.0                 1.0      8370    69042  \n",
       "1                16.0                 4.0     15200   248942  \n",
       "2                 5.0                 1.0      1422    87842  \n",
       "3                 3.0                 1.0      1057    85442  \n",
       "4                 5.0                 1.0      7969   285442  "
      ]
     },
     "execution_count": 296,
     "metadata": {},
     "output_type": "execute_result"
    }
   ],
   "source": [
    "train_data.head()"
   ]
  },
  {
   "cell_type": "code",
   "execution_count": 297,
   "metadata": {},
   "outputs": [],
   "source": [
    "train_data_2=train_data.drop(columns=['Product_ID'])\n",
    "\n",
    "test_data_2=test_data.drop(columns=['Product_ID'])"
   ]
  },
  {
   "cell_type": "code",
   "execution_count": 298,
   "metadata": {},
   "outputs": [],
   "source": [
    "# feature and traget variable\n",
    "y=train_data_2['Purchase']\n",
    "x=train_data_2.drop(columns=['Purchase'])"
   ]
  },
  {
   "cell_type": "code",
   "execution_count": 329,
   "metadata": {},
   "outputs": [],
   "source": [
    "# Scale numerical columns\n",
    "from sklearn.preprocessing import StandardScaler\n",
    "scaler = StandardScaler()\n",
    "\n",
    "x1=scaler.fit_transform(x)\n",
    "test_data_3=scaler.fit_transform(test_data_2)"
   ]
  },
  {
   "cell_type": "code",
   "execution_count": 330,
   "metadata": {},
   "outputs": [],
   "source": [
    "x1=pd.DataFrame(x1,columns=x.columns)\n",
    "test_data_3 =pd.DataFrame(test_data_3,columns=test_data_2.columns)"
   ]
  },
  {
   "cell_type": "code",
   "execution_count": 331,
   "metadata": {},
   "outputs": [],
   "source": [
    "def rmse(pred,Y):\n",
    "    return mean_squared_error(pred,Y)**0.5"
   ]
  },
  {
   "cell_type": "code",
   "execution_count": 332,
   "metadata": {},
   "outputs": [],
   "source": [
    "# train_test_splite\n",
    "X_train, X_test, y_train, y_test = train_test_split(x1, y, test_size=0.2)"
   ]
  },
  {
   "cell_type": "code",
   "execution_count": 337,
   "metadata": {},
   "outputs": [
    {
     "name": "stdout",
     "output_type": "stream",
     "text": [
      "3068.0820569906145\n"
     ]
    }
   ],
   "source": [
    "# base model of reg\n",
    "\n",
    "from sklearn.linear_model import LinearRegression\n",
    "lr=LinearRegression()\n",
    "lr.fit(x1,y)\n",
    "\n",
    "pred1=lr.predict(test_data_3)\n",
    "\n",
    "print(rmse(pred1,y_test))"
   ]
  },
  {
   "cell_type": "code",
   "execution_count": 338,
   "metadata": {},
   "outputs": [
    {
     "name": "stdout",
     "output_type": "stream",
     "text": [
      "3068.082039423765\n"
     ]
    }
   ],
   "source": [
    "# lasso model\n",
    "from sklearn.linear_model import Lasso\n",
    "ls=Lasso(alpha=0.1)\n",
    "ls.fit(X_train,y_train)\n",
    "\n",
    "pred2=ls.predict(X_test)\n",
    "\n",
    "print(rmse(pred2,y_test))"
   ]
  },
  {
   "cell_type": "code",
   "execution_count": 370,
   "metadata": {},
   "outputs": [],
   "source": [
    "from sklearn.ensemble import RandomForestRegressor\n",
    "regr = RandomForestRegressor(n_estimators=800, max_depth=15, oob_score=True, n_jobs=6, random_state=123, min_samples_split=10, min_samples_leaf=10)\n",
    "regr.fit(x1,y)\n",
    "\n",
    "pred_rf=regr.predict(test_data_3)\n",
    "#print(rmse(pred_rf,y_test))\n"
   ]
  },
  {
   "cell_type": "code",
   "execution_count": 371,
   "metadata": {},
   "outputs": [],
   "source": [
    "pred_rf=pd.DataFrame(pred_rf,columns=[\"Purchase\"])"
   ]
  },
  {
   "cell_type": "code",
   "execution_count": null,
   "metadata": {},
   "outputs": [],
   "source": []
  },
  {
   "cell_type": "code",
   "execution_count": 372,
   "metadata": {},
   "outputs": [],
   "source": [
    "from xgboost import XGBRegressor\n",
    "xgb = XGBRegressor(n_estimators=1000, learning_rate=0.05)\n",
    "xgb.fit(x1,y)\n",
    "pred=xgb.predict(test_data_3)\n",
    "#print(rmse(pred,y_test))"
   ]
  },
  {
   "cell_type": "code",
   "execution_count": 373,
   "metadata": {},
   "outputs": [],
   "source": [
    "pred_xg=pd.DataFrame(pred,columns=[\"Purchase\"])"
   ]
  },
  {
   "cell_type": "code",
   "execution_count": 394,
   "metadata": {},
   "outputs": [],
   "source": [
    "pred_s=.1*pred_rf+.9*pred_xg"
   ]
  },
  {
   "cell_type": "code",
   "execution_count": 395,
   "metadata": {},
   "outputs": [],
   "source": [
    "final_data=pd.DataFrame(pd.concat([pred_s,test_data.iloc[:,:2]],axis=1))"
   ]
  },
  {
   "cell_type": "code",
   "execution_count": 396,
   "metadata": {},
   "outputs": [],
   "source": [
    "final_data.to_csv(r'C:\\Users\\User\\Downloads\\file_sub.csv') "
   ]
  },
  {
   "cell_type": "code",
   "execution_count": null,
   "metadata": {},
   "outputs": [],
   "source": []
  },
  {
   "cell_type": "code",
   "execution_count": null,
   "metadata": {},
   "outputs": [],
   "source": []
  }
 ],
 "metadata": {
  "kernelspec": {
   "display_name": "Python 3",
   "language": "python",
   "name": "python3"
  },
  "language_info": {
   "codemirror_mode": {
    "name": "ipython",
    "version": 3
   },
   "file_extension": ".py",
   "mimetype": "text/x-python",
   "name": "python",
   "nbconvert_exporter": "python",
   "pygments_lexer": "ipython3",
   "version": "3.7.6"
  }
 },
 "nbformat": 4,
 "nbformat_minor": 4
}
